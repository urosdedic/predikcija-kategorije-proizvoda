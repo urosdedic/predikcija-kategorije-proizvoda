{
  "nbformat": 4,
  "nbformat_minor": 0,
  "metadata": {
    "colab": {
      "provenance": [],
      "authorship_tag": "ABX9TyMGgGjbIg4KN9RpggVQAD17",
      "include_colab_link": true
    },
    "kernelspec": {
      "name": "python3",
      "display_name": "Python 3"
    },
    "language_info": {
      "name": "python"
    }
  },
  "cells": [
    {
      "cell_type": "markdown",
      "metadata": {
        "id": "view-in-github",
        "colab_type": "text"
      },
      "source": [
        "<a href=\"https://colab.research.google.com/github/urosdedic/predikcija-kategorije-proizvoda/blob/main/predikcija_kategorije_proizvoda.ipynb\" target=\"_parent\"><img src=\"https://colab.research.google.com/assets/colab-badge.svg\" alt=\"Open In Colab\"/></a>"
      ]
    },
    {
      "cell_type": "code",
      "execution_count": null,
      "metadata": {
        "id": "DN652zOlUVm0"
      },
      "outputs": [],
      "source": []
    },
    {
      "cell_type": "markdown",
      "source": [
        "# Predikcija kategorije proizvoda prema naslovu"
      ],
      "metadata": {
        "id": "8EevGRxiUclT"
      }
    },
    {
      "cell_type": "code",
      "source": [],
      "metadata": {
        "id": "gGfHP9IeUliS"
      },
      "execution_count": null,
      "outputs": []
    }
  ]
}